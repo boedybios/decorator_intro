{
 "cells": [
  {
   "cell_type": "markdown",
   "id": "83bf2227",
   "metadata": {},
   "source": [
    "## Object Oriented Decorator (Classic)"
   ]
  },
  {
   "cell_type": "code",
   "execution_count": 1,
   "id": "f56bc3a9",
   "metadata": {},
   "outputs": [],
   "source": [
    "from math import sqrt\n",
    "\n",
    "\n",
    "def is_prime(candidate_number: int) -> bool:\n",
    "    \"\"\"Check if a number is prime by testing divisibility up to its square root\"\"\"\n",
    "    if candidate_number <= 1:\n",
    "        return False\n",
    "\n",
    "    # Check for divisors from 2 to square root of the number\n",
    "    for potential_divisor in range(2, int(sqrt(candidate_number)) + 1):\n",
    "        if candidate_number % potential_divisor == 0:\n",
    "            return False  # Found a divisor, so it's not prime\n",
    "\n",
    "    return True  # No divisors found, so it's prime"
   ]
  },
  {
   "cell_type": "code",
   "execution_count": 2,
   "id": "41adfbcc",
   "metadata": {},
   "outputs": [],
   "source": [
    "from abc import ABC, abstractmethod\n",
    "\n",
    "\n",
    "class PrimeCounterInterface(ABC):\n",
    "    \"\"\"Base interface for prime counting components\"\"\"\n",
    "\n",
    "    @abstractmethod\n",
    "    def count_primes(self, upper_limit: int) -> int:\n",
    "        \"\"\"Count prime numbers up to the given upper limit\"\"\"\n",
    "        pass\n",
    "\n",
    "\n",
    "class BasicPrimeCounter(PrimeCounterInterface):\n",
    "    \"\"\"A simple implementation that counts prime numbers\"\"\"\n",
    "\n",
    "    def count_primes(self, upper_limit: int) -> int:\n",
    "        prime_count = 0\n",
    "        for current_number in range(upper_limit):\n",
    "            if is_prime(current_number):\n",
    "                prime_count += 1\n",
    "        return prime_count"
   ]
  },
  {
   "cell_type": "code",
   "execution_count": 3,
   "id": "a372902b",
   "metadata": {},
   "outputs": [
    {
     "name": "stderr",
     "output_type": "stream",
     "text": [
      "\u001b[32m2025-09-19 18:42:15.974\u001b[0m | \u001b[1mINFO    \u001b[0m | \u001b[36m__main__\u001b[0m:\u001b[36m<module>\u001b[0m:\u001b[36m5\u001b[0m - \u001b[1mFound 9592 prime numbers\u001b[0m\n"
     ]
    }
   ],
   "source": [
    "from loguru import logger\n",
    "\n",
    "prime_counter = BasicPrimeCounter()\n",
    "result = prime_counter.count_primes(100000)\n",
    "logger.info(f\"Found {result} prime numbers\")"
   ]
  },
  {
   "cell_type": "code",
   "execution_count": 4,
   "id": "c7886140",
   "metadata": {},
   "outputs": [],
   "source": [
    "from loguru import logger\n",
    "from time import perf_counter\n",
    "\n",
    "\n",
    "class PrimeCounterDecorator(PrimeCounterInterface):\n",
    "    \"\"\"Base decorator class that wraps another prime counter\"\"\"\n",
    "\n",
    "    def __init__(self, wrapped_counter: PrimeCounterInterface):\n",
    "        self._wrapped_counter = wrapped_counter\n",
    "\n",
    "\n",
    "class TimingDecorator(PrimeCounterDecorator):\n",
    "    \"\"\"Decorator that measures and logs execution time\"\"\"\n",
    "\n",
    "    def count_primes(self, upper_limit: int) -> int:\n",
    "        start_time = perf_counter()\n",
    "        prime_count = self._wrapped_counter.count_primes(upper_limit)\n",
    "        end_time = perf_counter()\n",
    "        execution_time = end_time - start_time\n",
    "        logger.info(f\"Execution time: {execution_time:.4f} seconds\")\n",
    "        return prime_count"
   ]
  },
  {
   "cell_type": "code",
   "execution_count": 5,
   "id": "031f8712",
   "metadata": {},
   "outputs": [
    {
     "name": "stderr",
     "output_type": "stream",
     "text": [
      "\u001b[32m2025-09-19 18:42:16.102\u001b[0m | \u001b[1mINFO    \u001b[0m | \u001b[36m__main__\u001b[0m:\u001b[36mcount_primes\u001b[0m:\u001b[36m20\u001b[0m - \u001b[1mExecution time: 0.1190 seconds\u001b[0m\n",
      "\u001b[32m2025-09-19 18:42:16.103\u001b[0m | \u001b[1mINFO    \u001b[0m | \u001b[36m__main__\u001b[0m:\u001b[36m<module>\u001b[0m:\u001b[36m4\u001b[0m - \u001b[1mFound 9592 prime numbers\u001b[0m\n"
     ]
    }
   ],
   "source": [
    "basic_counter = BasicPrimeCounter()\n",
    "timed_counter = TimingDecorator(basic_counter)\n",
    "prime_count = timed_counter.count_primes(100000)\n",
    "logger.info(f\"Found {prime_count} prime numbers\")"
   ]
  },
  {
   "cell_type": "code",
   "execution_count": 6,
   "id": "d2e26bb0",
   "metadata": {},
   "outputs": [],
   "source": [
    "class LoggingDecorator(PrimeCounterDecorator):\n",
    "    \"\"\"Decorator that logs when operations start and finish\"\"\"\n",
    "\n",
    "    def count_primes(self, upper_limit: int) -> int:\n",
    "        class_name = self._wrapped_counter.__class__.__name__\n",
    "        logger.info(f\"Starting prime counting with {class_name}\")\n",
    "        prime_count = self._wrapped_counter.count_primes(upper_limit)\n",
    "        logger.info(f\"Finished prime counting with {class_name}\")\n",
    "        return prime_count"
   ]
  },
  {
   "cell_type": "code",
   "execution_count": 7,
   "id": "7a3b565e",
   "metadata": {},
   "outputs": [
    {
     "name": "stderr",
     "output_type": "stream",
     "text": [
      "\u001b[32m2025-09-19 18:42:16.112\u001b[0m | \u001b[1mINFO    \u001b[0m | \u001b[36m__main__\u001b[0m:\u001b[36mcount_primes\u001b[0m:\u001b[36m6\u001b[0m - \u001b[1mStarting prime counting with BasicPrimeCounter\u001b[0m\n",
      "\u001b[32m2025-09-19 18:42:16.197\u001b[0m | \u001b[1mINFO    \u001b[0m | \u001b[36m__main__\u001b[0m:\u001b[36mcount_primes\u001b[0m:\u001b[36m8\u001b[0m - \u001b[1mFinished prime counting with BasicPrimeCounter\u001b[0m\n",
      "\u001b[32m2025-09-19 18:42:16.197\u001b[0m | \u001b[1mINFO    \u001b[0m | \u001b[36m__main__\u001b[0m:\u001b[36mcount_primes\u001b[0m:\u001b[36m20\u001b[0m - \u001b[1mExecution time: 0.0856 seconds\u001b[0m\n",
      "\u001b[32m2025-09-19 18:42:16.198\u001b[0m | \u001b[1mINFO    \u001b[0m | \u001b[36m__main__\u001b[0m:\u001b[36m<module>\u001b[0m:\u001b[36m6\u001b[0m - \u001b[1mFinal result: 9592 prime numbers found\u001b[0m\n"
     ]
    }
   ],
   "source": [
    "# Example of stacking decorators - logging + timing\n",
    "basic_counter = BasicPrimeCounter()\n",
    "logged_counter = LoggingDecorator(basic_counter)\n",
    "timed_and_logged_counter = TimingDecorator(logged_counter)\n",
    "prime_count = timed_and_logged_counter.count_primes(100000)\n",
    "logger.info(f\"Final result: {prime_count} prime numbers found\")"
   ]
  },
  {
   "cell_type": "code",
   "execution_count": 8,
   "id": "7ee28244",
   "metadata": {},
   "outputs": [
    {
     "name": "stderr",
     "output_type": "stream",
     "text": [
      "\u001b[32m2025-09-19 18:42:16.202\u001b[0m | \u001b[1mINFO    \u001b[0m | \u001b[36m__main__\u001b[0m:\u001b[36mcount_primes\u001b[0m:\u001b[36m6\u001b[0m - \u001b[1mStarting prime counting with TimingDecorator\u001b[0m\n",
      "\u001b[32m2025-09-19 18:42:16.284\u001b[0m | \u001b[1mINFO    \u001b[0m | \u001b[36m__main__\u001b[0m:\u001b[36mcount_primes\u001b[0m:\u001b[36m20\u001b[0m - \u001b[1mExecution time: 0.0807 seconds\u001b[0m\n",
      "\u001b[32m2025-09-19 18:42:16.284\u001b[0m | \u001b[1mINFO    \u001b[0m | \u001b[36m__main__\u001b[0m:\u001b[36mcount_primes\u001b[0m:\u001b[36m8\u001b[0m - \u001b[1mFinished prime counting with TimingDecorator\u001b[0m\n",
      "\u001b[32m2025-09-19 18:42:16.284\u001b[0m | \u001b[1mINFO    \u001b[0m | \u001b[36m__main__\u001b[0m:\u001b[36m<module>\u001b[0m:\u001b[36m6\u001b[0m - \u001b[1mFinal result: 9592 prime numbers found\u001b[0m\n"
     ]
    }
   ],
   "source": [
    "# Example of stacking decorators - timing + logging\n",
    "basic_counter = BasicPrimeCounter()\n",
    "timed_and_logged_counter = TimingDecorator(basic_counter)\n",
    "logged_counter = LoggingDecorator(timed_and_logged_counter)\n",
    "prime_count = logged_counter.count_primes(100000)\n",
    "logger.info(f\"Final result: {prime_count} prime numbers found\")"
   ]
  },
  {
   "cell_type": "markdown",
   "id": "782862ae",
   "metadata": {},
   "source": [
    "## Functional Decorator"
   ]
  },
  {
   "cell_type": "code",
   "execution_count": 9,
   "id": "3b999670",
   "metadata": {},
   "outputs": [],
   "source": [
    "from math import sqrt\n",
    "\n",
    "\n",
    "def is_prime(candidate_number: int) -> bool:\n",
    "    if candidate_number <= 1:\n",
    "        return False\n",
    "\n",
    "    for potential_divisor in range(2, int(sqrt(candidate_number)) + 1):\n",
    "        if candidate_number % potential_divisor == 0:\n",
    "            return False\n",
    "\n",
    "    return True\n",
    "\n",
    "\n",
    "def count_primes(upper_limit: int) -> int:\n",
    "    prime_count = 0\n",
    "    for current_number in range(upper_limit):\n",
    "        if is_prime(current_number):\n",
    "            prime_count += 1\n",
    "    return prime_count"
   ]
  },
  {
   "cell_type": "markdown",
   "id": "02b94d14",
   "metadata": {},
   "source": [
    "### Approach 1"
   ]
  },
  {
   "cell_type": "code",
   "execution_count": 10,
   "id": "6259e760",
   "metadata": {},
   "outputs": [],
   "source": [
    "def count_primes_with_timing(upper_limit: int) -> int:\n",
    "    start_time = perf_counter()\n",
    "    prime_count = count_primes(upper_limit)\n",
    "    end_time = perf_counter()\n",
    "    execution_time = end_time - start_time\n",
    "    logger.info(f\"Execution time: {execution_time:.4f} seconds\")\n",
    "    return prime_count"
   ]
  },
  {
   "cell_type": "code",
   "execution_count": 11,
   "id": "6b68fef5",
   "metadata": {},
   "outputs": [
    {
     "name": "stderr",
     "output_type": "stream",
     "text": [
      "\u001b[32m2025-09-19 18:42:16.422\u001b[0m | \u001b[1mINFO    \u001b[0m | \u001b[36m__main__\u001b[0m:\u001b[36mcount_primes_with_timing\u001b[0m:\u001b[36m6\u001b[0m - \u001b[1mExecution time: 0.1238 seconds\u001b[0m\n",
      "\u001b[32m2025-09-19 18:42:16.423\u001b[0m | \u001b[1mINFO    \u001b[0m | \u001b[36m__main__\u001b[0m:\u001b[36m<module>\u001b[0m:\u001b[36m2\u001b[0m - \u001b[1mFound 9592 prime numbers\u001b[0m\n"
     ]
    }
   ],
   "source": [
    "result = count_primes_with_timing(100000)\n",
    "logger.info(f\"Found {result} prime numbers\")"
   ]
  },
  {
   "cell_type": "markdown",
   "id": "a57f3fea",
   "metadata": {},
   "source": [
    "### Approach 2: using wrapper"
   ]
  },
  {
   "cell_type": "code",
   "execution_count": 12,
   "id": "586ceeed",
   "metadata": {},
   "outputs": [],
   "source": [
    "from typing import Callable, Any\n",
    "\n",
    "\n",
    "def timing(func: Callable[..., Any]) -> Callable[..., Any]:\n",
    "    \"\"\"Decorator that measures and logs execution time\"\"\"\n",
    "\n",
    "    def wrapper(*args: Any, **kwargs: Any) -> Any:\n",
    "        start_time = perf_counter()\n",
    "        result = func(*args, **kwargs)\n",
    "        end_time = perf_counter()\n",
    "        execution_time = end_time - start_time\n",
    "        logger.info(f\"Execution time: {execution_time:.4f} seconds\")\n",
    "        return result\n",
    "\n",
    "    return wrapper"
   ]
  },
  {
   "cell_type": "code",
   "execution_count": 13,
   "id": "d187b5f6",
   "metadata": {},
   "outputs": [
    {
     "name": "stderr",
     "output_type": "stream",
     "text": [
      "\u001b[32m2025-09-19 18:42:16.514\u001b[0m | \u001b[1mINFO    \u001b[0m | \u001b[36m__main__\u001b[0m:\u001b[36mwrapper\u001b[0m:\u001b[36m12\u001b[0m - \u001b[1mExecution time: 0.0819 seconds\u001b[0m\n",
      "\u001b[32m2025-09-19 18:42:16.515\u001b[0m | \u001b[1mINFO    \u001b[0m | \u001b[36m__main__\u001b[0m:\u001b[36m<module>\u001b[0m:\u001b[36m3\u001b[0m - \u001b[1mFound 9592 prime numbers\u001b[0m\n"
     ]
    }
   ],
   "source": [
    "wrapper = timing(count_primes)\n",
    "result = wrapper(100000)\n",
    "logger.info(f\"Found {result} prime numbers\")"
   ]
  },
  {
   "cell_type": "markdown",
   "id": "6e1fbbcc",
   "metadata": {},
   "source": [
    "### Approach 3: cleaner solution"
   ]
  },
  {
   "cell_type": "code",
   "execution_count": 14,
   "id": "585737ab",
   "metadata": {},
   "outputs": [],
   "source": [
    "from typing import Callable, Any\n",
    "\n",
    "\n",
    "def with_timing(func: Callable[..., Any]) -> Callable[..., Any]:\n",
    "    \"\"\"Decorator that measures and logs execution time\"\"\"\n",
    "\n",
    "    def wrapper(*args: Any, **kwargs: Any) -> Any:\n",
    "        start_time = perf_counter()\n",
    "        result = func(*args, **kwargs)\n",
    "        end_time = perf_counter()\n",
    "        execution_time = end_time - start_time\n",
    "        logger.info(f\"Execution time: {execution_time:.4f} seconds\")\n",
    "        return result\n",
    "\n",
    "    return wrapper\n",
    "\n",
    "\n",
    "@with_timing\n",
    "def count_primes(upper_limit: int) -> int:\n",
    "    prime_count = 0\n",
    "    for current_number in range(upper_limit):\n",
    "        if is_prime(current_number):\n",
    "            prime_count += 1\n",
    "    return prime_count\n"
   ]
  },
  {
   "cell_type": "code",
   "execution_count": 15,
   "id": "6a6bfa94",
   "metadata": {},
   "outputs": [
    {
     "name": "stderr",
     "output_type": "stream",
     "text": [
      "\u001b[32m2025-09-19 18:42:16.646\u001b[0m | \u001b[1mINFO    \u001b[0m | \u001b[36m__main__\u001b[0m:\u001b[36mwrapper\u001b[0m:\u001b[36m12\u001b[0m - \u001b[1mExecution time: 0.1210 seconds\u001b[0m\n",
      "\u001b[32m2025-09-19 18:42:16.646\u001b[0m | \u001b[1mINFO    \u001b[0m | \u001b[36m__main__\u001b[0m:\u001b[36m<module>\u001b[0m:\u001b[36m2\u001b[0m - \u001b[1mFound 9592 prime numbers\u001b[0m\n"
     ]
    }
   ],
   "source": [
    "result = count_primes(100000)\n",
    "logger.info(f\"Found {result} prime numbers\")"
   ]
  },
  {
   "cell_type": "markdown",
   "id": "f5369700",
   "metadata": {},
   "source": [
    "Now include loggging"
   ]
  },
  {
   "cell_type": "code",
   "execution_count": 16,
   "id": "a666ed10",
   "metadata": {},
   "outputs": [],
   "source": [
    "def with_logging(func: Callable[..., Any]) -> Callable[..., Any]:\n",
    "    \"\"\"Decorator that measures and logs execution time\"\"\"\n",
    "\n",
    "    def wrapper(*args: Any, **kwargs: Any) -> Any:\n",
    "        logger.info(f\"Starting {func.__name__}\")\n",
    "        result = func(*args, **kwargs)\n",
    "        logger.info(f\"Finished {func.__name__}\")\n",
    "        return result\n",
    "\n",
    "    return wrapper\n",
    "\n",
    "\n",
    "@with_logging\n",
    "@with_timing\n",
    "def count_primes(upper_limit: int) -> int:\n",
    "    prime_count = 0\n",
    "    for current_number in range(upper_limit):\n",
    "        if is_prime(current_number):\n",
    "            prime_count += 1\n",
    "    return prime_count"
   ]
  },
  {
   "cell_type": "code",
   "execution_count": 17,
   "id": "4e9151c4",
   "metadata": {},
   "outputs": [
    {
     "name": "stderr",
     "output_type": "stream",
     "text": [
      "\u001b[32m2025-09-19 18:42:16.657\u001b[0m | \u001b[1mINFO    \u001b[0m | \u001b[36m__main__\u001b[0m:\u001b[36mwrapper\u001b[0m:\u001b[36m5\u001b[0m - \u001b[1mStarting wrapper\u001b[0m\n",
      "\u001b[32m2025-09-19 18:42:16.739\u001b[0m | \u001b[1mINFO    \u001b[0m | \u001b[36m__main__\u001b[0m:\u001b[36mwrapper\u001b[0m:\u001b[36m12\u001b[0m - \u001b[1mExecution time: 0.0819 seconds\u001b[0m\n",
      "\u001b[32m2025-09-19 18:42:16.740\u001b[0m | \u001b[1mINFO    \u001b[0m | \u001b[36m__main__\u001b[0m:\u001b[36mwrapper\u001b[0m:\u001b[36m7\u001b[0m - \u001b[1mFinished wrapper\u001b[0m\n",
      "\u001b[32m2025-09-19 18:42:16.740\u001b[0m | \u001b[1mINFO    \u001b[0m | \u001b[36m__main__\u001b[0m:\u001b[36m<module>\u001b[0m:\u001b[36m2\u001b[0m - \u001b[1mFound 9592 prime numbers\u001b[0m\n"
     ]
    }
   ],
   "source": [
    "result = count_primes(100000)\n",
    "logger.info(f\"Found {result} prime numbers\")"
   ]
  },
  {
   "cell_type": "markdown",
   "id": "95e37072",
   "metadata": {},
   "source": [
    "### Approach 4: using functools wraps"
   ]
  },
  {
   "cell_type": "code",
   "execution_count": 18,
   "id": "ad6c25ef",
   "metadata": {},
   "outputs": [],
   "source": [
    "from typing import Callable, Any\n",
    "from functools import wraps\n",
    "\n",
    "\n",
    "def with_timing(func: Callable[..., Any]) -> Callable[..., Any]:\n",
    "    @wraps(func)\n",
    "    def wrapper(*args: Any, **kwargs: Any) -> Any:\n",
    "        start_time = perf_counter()\n",
    "        result = func(*args, **kwargs)\n",
    "        end_time = perf_counter()\n",
    "        execution_time = end_time - start_time\n",
    "        logger.info(f\"Execution time: {execution_time:.4f} seconds\")\n",
    "        return result\n",
    "\n",
    "    return wrapper\n",
    "\n",
    "\n",
    "def with_logging(func: Callable[..., Any]) -> Callable[..., Any]:\n",
    "    @wraps(func)\n",
    "    def wrapper(*args: Any, **kwargs: Any) -> Any:\n",
    "        logger.info(f\"Starting {func.__name__}\")\n",
    "        result = func(*args, **kwargs)\n",
    "        logger.info(f\"Finished {func.__name__}\")\n",
    "        return result\n",
    "\n",
    "    return wrapper\n",
    "\n",
    "\n",
    "@with_logging\n",
    "@with_timing\n",
    "def count_primes(upper_limit: int) -> int:\n",
    "    prime_count = 0\n",
    "    for current_number in range(upper_limit):\n",
    "        if is_prime(current_number):\n",
    "            prime_count += 1\n",
    "    return prime_count"
   ]
  },
  {
   "cell_type": "code",
   "execution_count": 19,
   "id": "688dd7de",
   "metadata": {},
   "outputs": [
    {
     "name": "stderr",
     "output_type": "stream",
     "text": [
      "\u001b[32m2025-09-19 18:42:16.751\u001b[0m | \u001b[1mINFO    \u001b[0m | \u001b[36m__main__\u001b[0m:\u001b[36mwrapper\u001b[0m:\u001b[36m21\u001b[0m - \u001b[1mStarting count_primes\u001b[0m\n",
      "\u001b[32m2025-09-19 18:42:16.875\u001b[0m | \u001b[1mINFO    \u001b[0m | \u001b[36m__main__\u001b[0m:\u001b[36mwrapper\u001b[0m:\u001b[36m12\u001b[0m - \u001b[1mExecution time: 0.1231 seconds\u001b[0m\n",
      "\u001b[32m2025-09-19 18:42:16.876\u001b[0m | \u001b[1mINFO    \u001b[0m | \u001b[36m__main__\u001b[0m:\u001b[36mwrapper\u001b[0m:\u001b[36m23\u001b[0m - \u001b[1mFinished count_primes\u001b[0m\n",
      "\u001b[32m2025-09-19 18:42:16.876\u001b[0m | \u001b[1mINFO    \u001b[0m | \u001b[36m__main__\u001b[0m:\u001b[36m<module>\u001b[0m:\u001b[36m2\u001b[0m - \u001b[1mFound 9592 prime numbers\u001b[0m\n"
     ]
    }
   ],
   "source": [
    "result = count_primes(100000)\n",
    "logger.info(f\"Found {result} prime numbers\")"
   ]
  },
  {
   "cell_type": "code",
   "execution_count": null,
   "id": "4ba8c59c",
   "metadata": {},
   "outputs": [],
   "source": []
  }
 ],
 "metadata": {
  "kernelspec": {
   "display_name": ".venv",
   "language": "python",
   "name": "python3"
  },
  "language_info": {
   "codemirror_mode": {
    "name": "ipython",
    "version": 3
   },
   "file_extension": ".py",
   "mimetype": "text/x-python",
   "name": "python",
   "nbconvert_exporter": "python",
   "pygments_lexer": "ipython3",
   "version": "3.10.18"
  }
 },
 "nbformat": 4,
 "nbformat_minor": 5
}
